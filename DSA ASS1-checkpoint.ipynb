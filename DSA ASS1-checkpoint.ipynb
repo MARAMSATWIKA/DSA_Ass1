{
 "cells": [
  {
   "cell_type": "code",
   "execution_count": 10,
   "id": "11568dbd",
   "metadata": {},
   "outputs": [
    {
     "name": "stdout",
     "output_type": "stream",
     "text": [
      "[(1, 6), (2, 5), (3, 4)]\n"
     ]
    }
   ],
   "source": [
    "#1\n",
    "arr=[1,2,3,4,5,6]\n",
    "giv_num=7\n",
    "pairs=[]\n",
    "for i in range(len(arr)):\n",
    "    for j in range(i+1,len(arr)):\n",
    "        if arr[i]+arr[j]==giv_num:\n",
    "            pairs.append((arr[i],arr[j]))\n",
    "            break\n",
    "        else:\n",
    "            continue\n",
    "print(pairs)"
   ]
  },
  {
   "cell_type": "code",
   "execution_count": 9,
   "id": "592bc603",
   "metadata": {},
   "outputs": [
    {
     "name": "stdout",
     "output_type": "stream",
     "text": [
      "In place reversed array [4, 5, 2, 3, 1]\n"
     ]
    }
   ],
   "source": [
    "#2\n",
    "arr=[1,2,3,4,5]\n",
    "for i in range(len(arr)):\n",
    "    for j in range(len(arr)-1,-1,-1):\n",
    "        temp=arr[j]\n",
    "        arr[j]=arr[i]\n",
    "        arr[i]=temp\n",
    "print(\"In place reversed array\",arr)"
   ]
  },
  {
   "cell_type": "code",
   "execution_count": 8,
   "id": "307dd724",
   "metadata": {},
   "outputs": [
    {
     "name": "stdout",
     "output_type": "stream",
     "text": [
      "[(123, 231), (123, 312), (231, 312), ('LOHEL', 'HELLO')]\n"
     ]
    }
   ],
   "source": [
    "#3\n",
    "def are_rotations(num1,num2):\n",
    "    num1_str = str(num1)\n",
    "    num2_str = str(num2)\n",
    "    if len(num1_str)==len(num2_str):\n",
    "        k=0\n",
    "        l=0\n",
    "        while k<len(num1_str):\n",
    "            while l<len(num2_str):\n",
    "                if num2_str[k]==num1_str[l]:\n",
    "                    k+=1\n",
    "                    l+=1\n",
    "                    if l==len(num1_str):\n",
    "                        if k!=len(num2_str):\n",
    "                            l=0\n",
    "                    elif k==len(num1_str):\n",
    "                        return True\n",
    "                    elif num2_str[k]!=num1_str[l]:\n",
    "                        return False\n",
    "                else:\n",
    "                    l+=1\n",
    "                    if l==len(num2_str):\n",
    "                        return False\n",
    "    else:\n",
    "        return False\n",
    "def find_rotation_pairs(arr):\n",
    "    pairs=[]\n",
    "    for i in range(len(arr)):\n",
    "        for j in range(i + 1, len(arr)):\n",
    "            if are_rotations(arr[i], arr[j]):\n",
    "                pairs.append((arr[i], arr[j]))\n",
    "    print(pairs)\n",
    "arr = [123, 231, 312, 456, 789, 321,\"LOHEL\",\"HELLO\"]\n",
    "result = find_rotation_pairs(arr)"
   ]
  },
  {
   "cell_type": "code",
   "execution_count": 7,
   "id": "0437f83c",
   "metadata": {},
   "outputs": [
    {
     "name": "stdout",
     "output_type": "stream",
     "text": [
      "Enter the string:heolgbhneol\n",
      "g\n"
     ]
    }
   ],
   "source": [
    "#4\n",
    "str1=input(\"Enter the string:\")\n",
    "dict={}\n",
    "for i in range(len(str1)):\n",
    "    if str1[i] in dict:\n",
    "        dict[(str1[i])]+=1\n",
    "    else:\n",
    "        dict[(str1[i])]=1\n",
    "for key,val in dict.items():\n",
    "    if val==1:\n",
    "        print(key)\n",
    "        break\n",
    "        "
   ]
  },
  {
   "cell_type": "code",
   "execution_count": 5,
   "id": "f43b27d3",
   "metadata": {},
   "outputs": [
    {
     "name": "stdout",
     "output_type": "stream",
     "text": [
      "Move disk 1 from A to C\n",
      "Move disk 2 from A to B\n",
      "Move disk 1 from C to B\n",
      "Move disk 3 from A to C\n",
      "Move disk 1 from B to A\n",
      "Move disk 2 from B to C\n",
      "Move disk 1 from A to C\n"
     ]
    }
   ],
   "source": [
    "#5\n",
    "def tower_of_hanoi(n, from_rod, help_rod,to_rod):\n",
    "    if n == 1:\n",
    "        print(f\"Move disk 1 from {from_rod} to {to_rod}\")\n",
    "        return\n",
    "    tower_of_hanoi(n - 1, from_rod, to_rod, help_rod)\n",
    "    print(f\"Move disk {n} from {from_rod} to {to_rod}\")\n",
    "    tower_of_hanoi(n - 1, help_rod, from_rod, to_rod)\n",
    "n = 3\n",
    "tower_of_hanoi(n, 'A', 'B', 'C')"
   ]
  },
  {
   "cell_type": "code",
   "execution_count": 4,
   "id": "362d715a",
   "metadata": {},
   "outputs": [
    {
     "name": "stdout",
     "output_type": "stream",
     "text": [
      "Postfix Expression: A B + C D - *\n",
      "Prefix Expression: *+AB-CD\n"
     ]
    }
   ],
   "source": [
    "#6\n",
    "def is_operator(char):\n",
    "    return char in \"+-*/^\"\n",
    "\n",
    "def postfix_to_prefix(expression):\n",
    "    stack = []\n",
    "    operator = expression.split()\n",
    "\n",
    "    for operator in operator:\n",
    "        if is_operator(operator):\n",
    "            operand1 = stack.pop()\n",
    "            operand2 = stack.pop()\n",
    "            prefix_expression =operator+operand2+operand1\n",
    "            stack.append(prefix_expression)\n",
    "\n",
    "            \n",
    "        else:\n",
    "            stack.append(operator)\n",
    "            \n",
    "    if len(stack) == 1:\n",
    "        return stack[0]\n",
    "    else:\n",
    "        raise ValueError(\"Invalid prefix expression\")\n",
    "postfix_expression = \"A B + C D - *\"\n",
    "prefix_expression = postfix_to_prefix(postfix_expression)\n",
    "print(\"Postfix Expression:\", postfix_expression)\n",
    "print(\"Prefix Expression:\", prefix_expression)"
   ]
  },
  {
   "cell_type": "code",
   "execution_count": 3,
   "id": "3f7436ac",
   "metadata": {},
   "outputs": [
    {
     "name": "stdout",
     "output_type": "stream",
     "text": [
      "Prefix Expression: * + A B + C D\n",
      "Infix Expression: ((A + B) * (C + D))\n"
     ]
    }
   ],
   "source": [
    "#7\n",
    "def is_operator(char):\n",
    "    return char in \"+-*/^\"\n",
    "def prefix_to_infix(expression):\n",
    "    stack = []\n",
    "    operator = expression.split()\n",
    "\n",
    "    for operator in reversed(operator):\n",
    "        if not is_operator(operator):\n",
    "            stack.append(operator)\n",
    "        else:\n",
    "            operand1 = stack.pop()\n",
    "            operand2 = stack.pop()\n",
    "            infix_expression =f\"({operand1} {operator} {operand2})\"\n",
    "            stack.append(infix_expression)\n",
    "    if len(stack) == 1:\n",
    "        return stack[0]\n",
    "    else:\n",
    "        raise ValueError(\"Invalid prefix expression\")\n",
    "prefix_expression = \"* + A B + C D\"\n",
    "infix_expression = prefix_to_infix(prefix_expression)\n",
    "print(\"Prefix Expression:\", prefix_expression)\n",
    "print(\"Infix Expression:\", infix_expression)"
   ]
  },
  {
   "cell_type": "code",
   "execution_count": 14,
   "id": "f769e5a2",
   "metadata": {},
   "outputs": [
    {
     "name": "stdout",
     "output_type": "stream",
     "text": [
      "Enterthe number of codes you want to check:2\n",
      "Enter the code:[{()}]\n",
      "All brackets are closed properly.\n",
      "Enter the code:[{]}\n",
      "Brackets are not closed properly.\n"
     ]
    }
   ],
   "source": [
    "#8\n",
    "def are_brackets_closed(code):\n",
    "    stack = []\n",
    "    bracket_pairs = {')': '(', '}': '{', ']': '['}\n",
    "\n",
    "    for char in code:\n",
    "        if char in '([{':\n",
    "            stack.append(char)\n",
    "        elif char in ')]}':\n",
    "            if not stack:\n",
    "                return False\n",
    "            if stack.pop() != bracket_pairs[char]:\n",
    "                return False\n",
    "    return len(stack) == 0\n",
    "num_codes=int(input(\"Enterthe number of codes you want to check:\"))\n",
    "for i in range(num_codes):\n",
    "    code = input(\"Enter the code:\")\n",
    "\n",
    "    if are_brackets_closed(code):\n",
    "        print(\"All brackets are closed properly.\")\n",
    "    else:\n",
    "        print(\"Brackets are not closed properly.\")\n"
   ]
  },
  {
   "cell_type": "code",
   "execution_count": 2,
   "id": "8b311381",
   "metadata": {},
   "outputs": [
    {
     "name": "stdout",
     "output_type": "stream",
     "text": [
      "enter the number of elements to be pushed to the stack:5\n",
      "Enter the elements with space between them:12 8 9 4 3\n",
      "Reverse of stack:  [3, 4, 9, 8, 12]\n"
     ]
    }
   ],
   "source": [
    "#9\n",
    "class Stack:\n",
    "    def __init__(self):\n",
    "        self.stack=[]\n",
    "        self.reverse_stack=[]\n",
    "    def push(self,item):\n",
    "        self.stack.append(item)\n",
    "        return self.stack\n",
    "    def rev_stack(self):\n",
    "        for i in range(len(self.stack)-1,-1,-1):\n",
    "            self.reverse_stack.append(self.stack[i])\n",
    "        return self.reverse_stack\n",
    "stack1=Stack()\n",
    "num_elem=int(input(\"enter the number of elements to be pushed to the stack:\"))\n",
    "inputt=input(\"Enter the elements with space between them:\")\n",
    "for k in range(num_elem):\n",
    "    r=inputt.split() \n",
    "    stack1.push(int(r[k]))\n",
    "print(\"Reverse of stack: \",stack1.rev_stack())"
   ]
  },
  {
   "cell_type": "code",
   "execution_count": 1,
   "id": "731c9640",
   "metadata": {},
   "outputs": [
    {
     "name": "stdout",
     "output_type": "stream",
     "text": [
      "enter the number of elements to be pushed to the stack:5\n",
      "Enter the elements with space between them:12 3 7 6 2\n",
      "Our given stack is [12, 3, 7, 6, 2]\n",
      "Smallest element before popping 2\n",
      "enter number of times you want to pop and get smallest number after popping:4\n",
      "Our poppped stack is [12, 3, 7, 6]\n",
      "smallest element after popping 1 times\n",
      "3\n",
      "Our poppped stack is [12, 3, 7]\n",
      "smallest element after popping 2 times\n",
      "3\n",
      "Our poppped stack is [12, 3]\n",
      "smallest element after popping 3 times\n",
      "3\n",
      "Our poppped stack is [12]\n",
      "smallest element after popping 4 times\n",
      "12\n"
     ]
    }
   ],
   "source": [
    "#10\n",
    "class Stack:\n",
    "    def __init__(self):\n",
    "        self.stack=[]\n",
    "        self.min_stack=[]  \n",
    "    def push(self,item):\n",
    "        self.stack.append(item)\n",
    "        return self.stack\n",
    "    def pop(self):\n",
    "        if not self.stack:\n",
    "            print(\"Stack is empty.Pop function cannot be done on empty stack.\")\n",
    "        else:\n",
    "            self.stack.pop()\n",
    "            return self.stack\n",
    "    def display_stack(self):\n",
    "        return self.stack\n",
    "    def smallest_num(self):\n",
    "        if len(self.stack)!=len(self.min_stack):\n",
    "            for l in self.min_stack:\n",
    "                if l not in self.stack:\n",
    "                    for i in range(len(self.min_stack)):\n",
    "                        if self.min_stack[i]==l:\n",
    "                            self.min_stack.remove(l)\n",
    "                            break\n",
    "        for i in range(len(self.stack)):\n",
    "            if len(self.stack)==num_elem:\n",
    "                self.min_stack.append(sorted(self.stack)[i])\n",
    "                \n",
    "        return self.min_stack[0]\n",
    "stack1=Stack()\n",
    "num_elem=int(input(\"enter the number of elements to be pushed to the stack:\"))\n",
    "inputt=input(\"Enter the elements with space between them:\")\n",
    "for k in range(num_elem):\n",
    "    r=inputt.split() \n",
    "    stack1.push(int(r[k]))\n",
    "print(\"Our given stack is\",stack1.display_stack())\n",
    "print(\"Smallest element before popping\",stack1.smallest_num())\n",
    "t=int(input(\"enter number of times you want to pop and get smallest number after popping:\"))\n",
    "for j in range(1,t+1):   \n",
    "    stack1.pop()\n",
    "    print(\"Our poppped stack is\",stack1.display_stack())\n",
    "    print(\"smallest element after popping\",j,\"times\")\n",
    "    print(stack1.smallest_num())"
   ]
  },
  {
   "cell_type": "code",
   "execution_count": null,
   "id": "63076d3e",
   "metadata": {},
   "outputs": [],
   "source": []
  },
  {
   "cell_type": "code",
   "execution_count": null,
   "id": "2aa36ca0",
   "metadata": {},
   "outputs": [],
   "source": []
  }
 ],
 "metadata": {
  "kernelspec": {
   "display_name": "Python 3 (ipykernel)",
   "language": "python",
   "name": "python3"
  },
  "language_info": {
   "codemirror_mode": {
    "name": "ipython",
    "version": 3
   },
   "file_extension": ".py",
   "mimetype": "text/x-python",
   "name": "python",
   "nbconvert_exporter": "python",
   "pygments_lexer": "ipython3",
   "version": "3.9.7"
  }
 },
 "nbformat": 4,
 "nbformat_minor": 5
}
